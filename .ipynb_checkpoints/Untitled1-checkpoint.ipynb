{
 "cells": [
  {
   "cell_type": "code",
   "execution_count": null,
   "id": "cb4811ba-6f18-44d5-bb7d-8735ed29d555",
   "metadata": {
    "td_node_id": "cell_1"
   },
   "outputs": [],
   "source": []
  }
 ],
 "metadata": {
  "kernelspec": {
   "display_name": "Python 3 (ipykernel)",
   "language": "python",
   "name": "python3"
  },
  "language_info": {
   "codemirror_mode": {
    "name": "ipython",
    "version": 3
   },
   "file_extension": ".py",
   "mimetype": "text/x-python",
   "name": "python",
   "nbconvert_exporter": "python",
   "pygments_lexer": "ipython3",
   "version": "3.10.16"
  },
  "td_synced": true
 },
 "nbformat": 4,
 "nbformat_minor": 5
}
