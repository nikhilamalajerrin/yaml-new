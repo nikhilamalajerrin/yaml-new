{
 "cells": [
  {
   "cell_type": "code",
   "execution_count": null,
   "id": "58e9e20f",
   "metadata": {
    "td_function": "read_csv",
    "td_node_id": "read_csv_1",
    "td_params": {
     "filepath_or_buffer": "check.csv"
    }
   },
   "outputs": [],
   "source": [
    "# td:function=read_csv params={\"filepath_or_buffer\":\"check.csv\"}\n",
    "import pandas as pd\n",
    "import numpy as np\n",
    "read_csv_1 = pd.read_csv(\"check.csv\")\n"
   ]
  },
  {
   "cell_type": "code",
   "execution_count": null,
   "id": "6e34fa52",
   "metadata": {
    "td_function": "DataFrame.rename",
    "td_node_id": "rename_1",
    "td_params": {
     "columns": {
      "date": "dates"
     },
     "self": "read_csv_1"
    }
   },
   "outputs": [],
   "source": [
    "# td:function=DataFrame.rename params={\"columns\":{\"date\":\"dates\"},\"self\":\"read_csv_1\"}\n",
    "import pandas as pd\n",
    "import numpy as np\n",
    "rename_1 = read_csv_1.rename(columns={\"date\":\"dates\"})\n"
   ]
  },
  {
   "cell_type": "code",
   "execution_count": 48,
   "id": "a9334d76-c2c6-4880-86bd-5507d2abed0c",
   "metadata": {
    "td_node_id": "cell_3"
   },
   "outputs": [
    {
     "data": {
      "text/html": [
       "<div>\n",
       "<style scoped>\n",
       "    .dataframe tbody tr th:only-of-type {\n",
       "        vertical-align: middle;\n",
       "    }\n",
       "\n",
       "    .dataframe tbody tr th {\n",
       "        vertical-align: top;\n",
       "    }\n",
       "\n",
       "    .dataframe thead th {\n",
       "        text-align: right;\n",
       "    }\n",
       "</style>\n",
       "<table border=\"1\" class=\"dataframe\">\n",
       "  <thead>\n",
       "    <tr style=\"text-align: right;\">\n",
       "      <th></th>\n",
       "      <th>dates</th>\n",
       "      <th>POONDI</th>\n",
       "      <th>CHOLAVARAM</th>\n",
       "      <th>REDHILLS</th>\n",
       "      <th>CHEMBARAMBAKKAM;;</th>\n",
       "    </tr>\n",
       "  </thead>\n",
       "  <tbody>\n",
       "    <tr>\n",
       "      <th>0</th>\n",
       "      <td>01-01-2004</td>\n",
       "      <td>3.9</td>\n",
       "      <td>0.0</td>\n",
       "      <td>268.0</td>\n",
       "      <td>0.00;;NaN</td>\n",
       "    </tr>\n",
       "    <tr>\n",
       "      <th>1</th>\n",
       "      <td>02-01-2004</td>\n",
       "      <td>3.9</td>\n",
       "      <td>0.0</td>\n",
       "      <td>268.0</td>\n",
       "      <td>0.00;;</td>\n",
       "    </tr>\n",
       "    <tr>\n",
       "      <th>2</th>\n",
       "      <td>03-01-2004</td>\n",
       "      <td>3.9</td>\n",
       "      <td>0.0</td>\n",
       "      <td>267.0</td>\n",
       "      <td>0.00;;</td>\n",
       "    </tr>\n",
       "    <tr>\n",
       "      <th>3</th>\n",
       "      <td>04-01-2004</td>\n",
       "      <td>3.9</td>\n",
       "      <td>0.0</td>\n",
       "      <td>267.0</td>\n",
       "      <td>0.00;;</td>\n",
       "    </tr>\n",
       "    <tr>\n",
       "      <th>4</th>\n",
       "      <td>05-01-2004</td>\n",
       "      <td>3.8</td>\n",
       "      <td>0.0</td>\n",
       "      <td>267.0</td>\n",
       "      <td>0.00;;</td>\n",
       "    </tr>\n",
       "    <tr>\n",
       "      <th>...</th>\n",
       "      <td>...</td>\n",
       "      <td>...</td>\n",
       "      <td>...</td>\n",
       "      <td>...</td>\n",
       "      <td>...</td>\n",
       "    </tr>\n",
       "    <tr>\n",
       "      <th>6177</th>\n",
       "      <td>29-11-2020</td>\n",
       "      <td>2814.0</td>\n",
       "      <td>403.0</td>\n",
       "      <td>2819.0</td>\n",
       "      <td>3120.00;;</td>\n",
       "    </tr>\n",
       "    <tr>\n",
       "      <th>6178</th>\n",
       "      <td>30-11-2020</td>\n",
       "      <td>2848.0</td>\n",
       "      <td>465.0</td>\n",
       "      <td>2833.0</td>\n",
       "      <td>3120.00;;</td>\n",
       "    </tr>\n",
       "    <tr>\n",
       "      <th>6179</th>\n",
       "      <td>01-12-2020</td>\n",
       "      <td>2902.0</td>\n",
       "      <td>504.0</td>\n",
       "      <td>2841.0</td>\n",
       "      <td>3123.00;;</td>\n",
       "    </tr>\n",
       "    <tr>\n",
       "      <th>6180</th>\n",
       "      <td>02-12-2020</td>\n",
       "      <td>2873.0</td>\n",
       "      <td>547.0</td>\n",
       "      <td>2847.0</td>\n",
       "      <td>3125.00;;</td>\n",
       "    </tr>\n",
       "    <tr>\n",
       "      <th>6181</th>\n",
       "      <td>03-12-2020</td>\n",
       "      <td>2867.0</td>\n",
       "      <td>590.0</td>\n",
       "      <td>2878.0</td>\n",
       "      <td>3137.00;;</td>\n",
       "    </tr>\n",
       "  </tbody>\n",
       "</table>\n",
       "<p>6182 rows × 5 columns</p>\n",
       "</div>"
      ],
      "text/plain": [
       "           dates  POONDI  CHOLAVARAM  REDHILLS CHEMBARAMBAKKAM;;\n",
       "0     01-01-2004     3.9         0.0     268.0         0.00;;NaN\n",
       "1     02-01-2004     3.9         0.0     268.0            0.00;;\n",
       "2     03-01-2004     3.9         0.0     267.0            0.00;;\n",
       "3     04-01-2004     3.9         0.0     267.0            0.00;;\n",
       "4     05-01-2004     3.8         0.0     267.0            0.00;;\n",
       "...          ...     ...         ...       ...               ...\n",
       "6177  29-11-2020  2814.0       403.0    2819.0         3120.00;;\n",
       "6178  30-11-2020  2848.0       465.0    2833.0         3120.00;;\n",
       "6179  01-12-2020  2902.0       504.0    2841.0         3123.00;;\n",
       "6180  02-12-2020  2873.0       547.0    2847.0         3125.00;;\n",
       "6181  03-12-2020  2867.0       590.0    2878.0         3137.00;;\n",
       "\n",
       "[6182 rows x 5 columns]"
      ]
     },
     "execution_count": 48,
     "metadata": {},
     "output_type": "execute_result"
    }
   ],
   "source": [
    "rename_1"
   ]
  },
  {
   "cell_type": "code",
   "execution_count": null,
   "id": "1115ea36",
   "metadata": {
    "td_function": "DataFrame.astype",
    "td_node_id": "astype_4",
    "td_params": {
     "dtype": {
      "CHOLAVARAM": "int"
     },
     "self": "rename_1"
    }
   },
   "outputs": [],
   "source": [
    "# td:function=DataFrame.astype params={\"self\":\"rename_1\",\"dtype\":{\"CHOLAVARAM\":\"int\"}}\n",
    "import pandas as pd\n",
    "import numpy as np\n",
    "astype_4 = rename_1.astype(dtype={\"CHOLAVARAM\":\"int\"})\n"
   ]
  },
  {
   "cell_type": "code",
   "execution_count": null,
   "id": "423aecc7-279f-42e7-a397-15cbc79e72e3",
   "metadata": {
    "td_node_id": "cell_5"
   },
   "outputs": [],
   "source": []
  }
 ],
 "metadata": {
  "kernelspec": {
   "display_name": "Python 3 (ipykernel)",
   "language": "python",
   "name": "python3"
  },
  "language_info": {
   "codemirror_mode": {
    "name": "ipython",
    "version": 3
   },
   "file_extension": ".py",
   "mimetype": "text/x-python",
   "name": "python",
   "nbconvert_exporter": "python",
   "pygments_lexer": "ipython3",
   "version": "3.10.16"
  },
  "td_synced": true
 },
 "nbformat": 4,
 "nbformat_minor": 5
}
